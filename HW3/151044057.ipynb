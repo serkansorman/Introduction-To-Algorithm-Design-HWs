{
 "cells": [
  {
   "cell_type": "markdown",
   "metadata": {},
   "source": [
    "Q1) Dictionary is used as adjacency list to express graph. Queue is used to BFS and BFS time complexity is O(V+E) where V is number of vertices in the graph and E is number of edges in the graph.\n",
    "Stack is used to DFS and DFS time complexity is O(V+E). It is the same as BFS time complexity.\n",
    "Number of vertex is calculated according to vertex that has maximum value in graph. Visited list indicates visited vertex as True during the BFS and DFS traversal."
   ]
  },
  {
   "cell_type": "code",
   "execution_count": 154,
   "metadata": {
    "scrolled": true
   },
   "outputs": [
    {
     "name": "stdout",
     "output_type": "stream",
     "text": [
      "BFS: 1 2 3 4 5 8 6 9 10 7 \n",
      "DFS: 1 8 10 9 5 6 7 4 3 2 "
     ]
    }
   ],
   "source": [
    "from collections import defaultdict\n",
    "import xlrd\n",
    "\n",
    "   \n",
    "def BFS(graph,s,numOfVertex): \n",
    "  \n",
    "    visited = [False] * (numOfVertex+1) #Initialize visited vertexs with indicated size\n",
    "    queue = [] \n",
    "    queue.append(s) \n",
    "    visited[s] = True\n",
    "\n",
    "    while queue: \n",
    "        s = queue.pop(0)  #Get head of queue\n",
    "        print (s, end = \" \") \n",
    "        for i in graph[s]:\n",
    "            if  visited[i] == False: \n",
    "                queue.append(i) \n",
    "                visited[i] = True\n",
    "    print(\"\")\n",
    "    \n",
    "                \n",
    "def DFS(graph, start,numOfVertex):\n",
    "    \n",
    "    visited = [False] * (numOfVertex+1) #Initialize visited vertexs with indicated size\n",
    "    stack = []\n",
    "    stack.append(start)\n",
    "    visited[start] = True\n",
    "    \n",
    "    while stack:\n",
    "        vertex = stack.pop() #Get tail of queue\n",
    "        print (vertex, end = \" \")\n",
    "        for i in graph[vertex]:\n",
    "            if  visited[i] == False: \n",
    "                stack.append(i)\n",
    "                visited[i] = True      \n",
    "                \n",
    "                \n",
    "#Read data to graph\n",
    "workbook = xlrd.open_workbook(\"Graph_data.xls\")\n",
    "graph = defaultdict(list)\n",
    "numOfVertex = 0;\n",
    "\n",
    "for sheet in workbook.sheets():\n",
    "    root = int(sheet.cell(0,1).value)\n",
    "    for row in range(sheet.nrows):\n",
    "        if row > 2:\n",
    "            firstVertex = int(sheet.cell(row,0).value)\n",
    "            secondVertex = int(sheet.cell(row,1).value)\n",
    "            graph[firstVertex].append(secondVertex)\n",
    "            if firstVertex > numOfVertex:\n",
    "                numOfVertex = firstVertex\n",
    "            if secondVertex > numOfVertex:\n",
    "                numOfVertex = secondVertex\n",
    "                \n",
    "print(\"BFS: \",end = \"\")\n",
    "BFS(graph,root,numOfVertex)\n",
    "print(\"DFS: \",end = \"\")\n",
    "DFS(graph,root,numOfVertex)"
   ]
  },
  {
   "cell_type": "markdown",
   "metadata": {},
   "source": [
    "Q2) Decrease and conquer solution for this problem is expressed with this way: First we should find solution in terms of smaller problem. For example: For n = 1 and m = 2, First player takes 1 coin and He/She wins. For n = 2 and m = 2, First player takes 2 coin and He/She wins. For n = 3 and m = 2, First player can takes 1 or 2 coin but both cases He/She lost.\n",
    "According to these cases we can say if n = (m+1)k + 1 (where n = number of coins, m = amount of taking coin, k is positive number) first player can win. If this condition is true and remain_coins = k(m+1) after first player move, first player will be winner in all cases. If we dont include the game play loops, running time complexity is O(1) (module and arithmetic operations).If we includes game play loops, time complexity is O(n * m)"
   ]
  },
  {
   "cell_type": "code",
   "execution_count": 144,
   "metadata": {},
   "outputs": [
    {
     "name": "stdout",
     "output_type": "stream",
     "text": [
      "First Player:   1\n",
      "Second Player:  3\n",
      "First Player:   2\n",
      "Second Player:  4\n",
      "First Player:   1\n",
      "Second Player:  2\n",
      "First Player:   3\n",
      "Second Player:  1\n",
      "First Player:   4\n",
      "First is the winner\n"
     ]
    }
   ],
   "source": [
    "import random\n",
    "\n",
    "def findWinner(n,m):\n",
    "    if n % (m+1) != 0:\n",
    "        #First player can win if n = (m+1)k + 1, k can be any positive number\n",
    "        if((n-1) % (m+1) == 0): \n",
    "            while(True):\n",
    "                #If first condition is true and remain_coins mod(m+1) == 0 after his/her move, first player will be winner\n",
    "                firstPlayerMove = random.randint(1,m)\n",
    "                remain_coins = n - firstPlayerMove\n",
    "                #Generate move until it is true for above condition\n",
    "                while(remain_coins % (m+1) != 0):\n",
    "                    firstPlayerMove = random.randint(1,m)\n",
    "                    remain_coins = n - firstPlayerMove\n",
    "\n",
    "                print(\"First Player:  \",firstPlayerMove)\n",
    "                n = remain_coins\n",
    "                if(n == 0):\n",
    "                    print (\"First is the winner\")\n",
    "                    break\n",
    "                    \n",
    "                #Second player's move is not important if first player play game with this way\n",
    "                secondPlayerMove = random.randint(1,m) \n",
    "                print(\"Second Player: \",secondPlayerMove)\n",
    "                n -= secondPlayerMove\n",
    "                if(n == 0):\n",
    "                    print (\"Second is the winner\")\n",
    "                    break\n",
    "        else:\n",
    "            print (\"Second is the winner\")\n",
    "    else:\n",
    "        print (\"Invalid m value\")\n",
    "\n",
    "findWinner(21,4)"
   ]
  },
  {
   "cell_type": "markdown",
   "metadata": {},
   "source": [
    "Q3)Binary Search Algorithm is used as divide and conquer algorithm to find A[i] = i in given array. Time complexity of hasMatchingIndex() function is O(logn) where n is equal to number of elements in given array. In modified function, just single line is different from binary search(mid == arr[mid] instead of X == arr[mid])"
   ]
  },
  {
   "cell_type": "code",
   "execution_count": 145,
   "metadata": {},
   "outputs": [
    {
     "name": "stdout",
     "output_type": "stream",
     "text": [
      "True\n"
     ]
    }
   ],
   "source": [
    "def hasMatchingIndex(arr):\n",
    "    return binarySearch(arr, 0, len(arr) - 1)\n",
    "\n",
    "#Checks whether the A[i] = i using Binary Search\n",
    "def binarySearch(arr, low, high): \n",
    "    if high >= low:\n",
    "        \n",
    "        mid = (low + high)//2\n",
    "        if mid == arr[mid]:    \n",
    "            return True \n",
    "        if mid > arr[mid]: \n",
    "            return binarySearch(arr, (mid + 1), high) \n",
    "        else: \n",
    "            return binarySearch(arr, low, (mid -1)) \n",
    "  \n",
    "    return False\n",
    "  \n",
    "arr = [-10, -1, 0, 3, 10, 11, 30, 50, 100] # A[3] == 3\n",
    "print(hasMatchingIndex(arr))"
   ]
  },
  {
   "cell_type": "markdown",
   "metadata": {},
   "source": [
    "Q4)To find a contiguous subset having the largest sum using divide and conquer approach, array is divided to two halves. There are 3 cases where the subset can be found in array. First, it can be found in left half of array. Second, it can be found in right half of array and third it can be found in both left and right half of array. So, for third case, leftOppositeSum() and rightOppositeSum() functions are designed. By this indicated way, array is divided to two halves recursively and largest sum is calculated. Time complexity of this implementation is T(n) = 2T(n/2) + Θ(n) and it means T(n) = Θ(nLogn). "
   ]
  },
  {
   "cell_type": "code",
   "execution_count": 147,
   "metadata": {},
   "outputs": [
    {
     "name": "stdout",
     "output_type": "stream",
     "text": [
      "14\n"
     ]
    }
   ],
   "source": [
    "#Calculate left half array contiguous subset with the largest sum\n",
    "def leftOppositeSum(arr, start, mid, end):\n",
    "    tempSum = 0 \n",
    "    left_sum = float('-inf')\n",
    "\n",
    "    for i in range(mid,start+1,-1):\n",
    "        tempSum += arr[i]\n",
    "        left_sum = max(tempSum, left_sum)       \n",
    "    return left_sum;\n",
    "\n",
    "#Calculate right half array contiguous subset with the largest sum\n",
    "def rightOppositeSum(arr, start, mid, end):\n",
    "    tempSum = 0 \n",
    "    right_sum = float('-inf')\n",
    "\n",
    "    for i in range(mid + 1, end + 1):\n",
    "        tempSum += arr[i]  \n",
    "        right_sum = max(tempSum, right_sum)       \n",
    "    return right_sum;\n",
    "  \n",
    "\n",
    "def largestSum(arr, start, end) : \n",
    "      \n",
    "    if (start == end): \n",
    "        return arr[start] \n",
    "\n",
    "    mid = (start + end) // 2 \n",
    "    return max(largestSum(arr, start, mid), \n",
    "               largestSum(arr, mid+1, end), \n",
    "               (leftOppositeSum(arr, start, mid, end) + rightOppositeSum(arr, start, mid, end))) \n",
    "         \n",
    "arr = [5, -6, 6, 7, -6, 7, -4, 3]\n",
    "print( largestSum(arr, 0, len(arr)-1)) "
   ]
  },
  {
   "cell_type": "markdown",
   "metadata": {},
   "source": [
    "Q5)For recursive aproach of this problem, we have to use dictionary to indexing words in string to patterns. First we get the pattern and check whether dictionary has this pattern. if dictionary has not this pattern add it to dictionary with all string.if dictionary has this pattern, get the value of this keyPattern and check if this value in beginning of given string. By this indicated way repeat it recursively with remaining string and remaining patterns. After process is completed , dictionary is filled with words indexed by patterns. Running time of this solution depends on number of patterns.Therefore time complexity is O(n^2) where n = number of patterns"
   ]
  },
  {
   "cell_type": "code",
   "execution_count": 180,
   "metadata": {},
   "outputs": [
    {
     "name": "stdout",
     "output_type": "stream",
     "text": [
      "True\n",
      "True\n",
      "False\n"
     ]
    }
   ],
   "source": [
    "def deosPatternMatch(pattern, string):\n",
    "    matches = dict() #Define a dictionary for indexing pattern to words\n",
    "    string = string.lower() #toLower for upper case letters\n",
    "    return findMatches(pattern,string,matches)\n",
    "\n",
    "#Helper method that gets substring of string\n",
    "def getRemainingString(string,fromIndex,toIndex):\n",
    "    str = \"\"\n",
    "    for i in range(fromIndex,toIndex):\n",
    "        str += string[i]\n",
    "    return str\n",
    "\n",
    "def findMatches(pattern, string, matches):\n",
    "    \n",
    "    if not string and not pattern: \n",
    "        return True\n",
    "    keyPattern = pattern[0] #Get pattern for using as a key in dictionary\n",
    "    if keyPattern not in matches: #if pattern is not dictionary add it to dictionary\n",
    "        for i in range(len(string),0,-1):  \n",
    "            match = getRemainingString(string,0,i)\n",
    "            matches[keyPattern] = match      \n",
    "            if findMatches(pattern[1:], string[len(match):], matches): #Look remaining string recursively\n",
    "                return True\n",
    "            else:\n",
    "                matches.pop(keyPattern)  # Remove word which is indexed by keyPattern from dictionary   \n",
    "    else:\n",
    "        value = matches.get(keyPattern)\n",
    "        otherPartOfString = string[len(value):]\n",
    "        if value in string[0:len(value)]:# Check whether the string starting with value\n",
    "            return findMatches(pattern[1:], otherPartOfString, matches) #Look remaining string recursively\n",
    "        else:\n",
    "            return False \n",
    "    return False\n",
    "\n",
    "print(deosPatternMatch(\"abcdab\", \"Tobeornottobe\"))\n",
    "print(deosPatternMatch(\"abba\", \"gototogo\"))\n",
    "print(deosPatternMatch(\"abab\", \"xxxyyxxxzz\"))"
   ]
  },
  {
   "cell_type": "code",
   "execution_count": null,
   "metadata": {},
   "outputs": [],
   "source": []
  }
 ],
 "metadata": {
  "kernelspec": {
   "display_name": "Python 3",
   "language": "python",
   "name": "python3"
  },
  "language_info": {
   "codemirror_mode": {
    "name": "ipython",
    "version": 3
   },
   "file_extension": ".py",
   "mimetype": "text/x-python",
   "name": "python",
   "nbconvert_exporter": "python",
   "pygments_lexer": "ipython3",
   "version": "3.7.0"
  }
 },
 "nbformat": 4,
 "nbformat_minor": 2
}
